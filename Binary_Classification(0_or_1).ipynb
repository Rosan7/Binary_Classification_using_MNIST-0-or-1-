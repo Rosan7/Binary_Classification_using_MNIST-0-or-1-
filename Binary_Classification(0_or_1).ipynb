{
  "nbformat": 4,
  "nbformat_minor": 0,
  "metadata": {
    "colab": {
      "provenance": []
    },
    "kernelspec": {
      "name": "python3",
      "display_name": "Python 3"
    },
    "language_info": {
      "name": "python"
    }
  },
  "cells": [
    {
      "cell_type": "code",
      "execution_count": 1,
      "metadata": {
        "id": "LxxhhNoYtSOX"
      },
      "outputs": [],
      "source": [
        "import numpy as np\n",
        "import tensorflow as tf\n",
        "from tensorflow.keras.models import Sequential\n",
        "from tensorflow.keras.layers import Dense\n",
        "import matplotlib.pyplot as plt\n",
        "import pandas as pd\n"
      ]
    },
    {
      "cell_type": "code",
      "source": [],
      "metadata": {
        "id": "ROsfgKDdkiLA"
      },
      "execution_count": 2,
      "outputs": []
    },
    {
      "cell_type": "code",
      "source": [
        "df = pd.read_csv(\"/content/mnist_train.csv\")"
      ],
      "metadata": {
        "id": "K8uB3j8mtaNq"
      },
      "execution_count": 2,
      "outputs": []
    },
    {
      "cell_type": "code",
      "source": [
        "print(df.head())"
      ],
      "metadata": {
        "colab": {
          "base_uri": "https://localhost:8080/"
        },
        "id": "4s7OrDXNto-H",
        "outputId": "675cecbd-e0ae-462c-9672-b8eaf0af6d86"
      },
      "execution_count": 3,
      "outputs": [
        {
          "output_type": "stream",
          "name": "stdout",
          "text": [
            "   label  1x1  1x2  1x3  1x4  1x5  1x6  1x7  1x8  1x9  ...  28x19  28x20  \\\n",
            "0      5    0    0    0    0    0    0    0    0    0  ...    0.0    0.0   \n",
            "1      0    0    0    0    0    0    0    0    0    0  ...    0.0    0.0   \n",
            "2      4    0    0    0    0    0    0    0    0    0  ...    0.0    0.0   \n",
            "3      1    0    0    0    0    0    0    0    0    0  ...    0.0    0.0   \n",
            "4      9    0    0    0    0    0    0    0    0    0  ...    0.0    0.0   \n",
            "\n",
            "   28x21  28x22  28x23  28x24  28x25  28x26  28x27  28x28  \n",
            "0    0.0    0.0    0.0    0.0    0.0    0.0    0.0    0.0  \n",
            "1    0.0    0.0    0.0    0.0    0.0    0.0    0.0    0.0  \n",
            "2    0.0    0.0    0.0    0.0    0.0    0.0    0.0    0.0  \n",
            "3    0.0    0.0    0.0    0.0    0.0    0.0    0.0    0.0  \n",
            "4    0.0    0.0    0.0    0.0    0.0    0.0    0.0    0.0  \n",
            "\n",
            "[5 rows x 785 columns]\n"
          ]
        }
      ]
    },
    {
      "cell_type": "code",
      "source": [
        "x = df.query('label == 0 or label == 1')"
      ],
      "metadata": {
        "id": "ZbaVMmfFQfIA"
      },
      "execution_count": 4,
      "outputs": []
    },
    {
      "cell_type": "code",
      "source": [
        "print(x)"
      ],
      "metadata": {
        "colab": {
          "base_uri": "https://localhost:8080/"
        },
        "id": "YDjzdi1USuTI",
        "outputId": "eb00631a-1407-4a51-f744-764b9942e7e4"
      },
      "execution_count": 5,
      "outputs": [
        {
          "output_type": "stream",
          "name": "stdout",
          "text": [
            "       label  1x1  1x2  1x3  1x4  1x5  1x6  1x7  1x8  1x9  ...  28x19  28x20  \\\n",
            "1          0    0    0    0    0    0    0    0    0    0  ...    0.0    0.0   \n",
            "3          1    0    0    0    0    0    0    0    0    0  ...    0.0    0.0   \n",
            "6          1    0    0    0    0    0    0    0    0    0  ...    0.0    0.0   \n",
            "8          1    0    0    0    0    0    0    0    0    0  ...    0.0    0.0   \n",
            "14         1    0    0    0    0    0    0    0    0    0  ...    0.0    0.0   \n",
            "...      ...  ...  ...  ...  ...  ...  ...  ...  ...  ...  ...    ...    ...   \n",
            "16608      1    0    0    0    0    0    0    0    0    0  ...    0.0    0.0   \n",
            "16610      1    0    0    0    0    0    0    0    0    0  ...    0.0    0.0   \n",
            "16614      1    0    0    0    0    0    0    0    0    0  ...    0.0    0.0   \n",
            "16618      0    0    0    0    0    0    0    0    0    0  ...    0.0    0.0   \n",
            "16619      0    0    0    0    0    0    0    0    0    0  ...    0.0    0.0   \n",
            "\n",
            "       28x21  28x22  28x23  28x24  28x25  28x26  28x27  28x28  \n",
            "1        0.0    0.0    0.0    0.0    0.0    0.0    0.0    0.0  \n",
            "3        0.0    0.0    0.0    0.0    0.0    0.0    0.0    0.0  \n",
            "6        0.0    0.0    0.0    0.0    0.0    0.0    0.0    0.0  \n",
            "8        0.0    0.0    0.0    0.0    0.0    0.0    0.0    0.0  \n",
            "14       0.0    0.0    0.0    0.0    0.0    0.0    0.0    0.0  \n",
            "...      ...    ...    ...    ...    ...    ...    ...    ...  \n",
            "16608    0.0    0.0    0.0    0.0    0.0    0.0    0.0    0.0  \n",
            "16610    0.0    0.0    0.0    0.0    0.0    0.0    0.0    0.0  \n",
            "16614    0.0    0.0    0.0    0.0    0.0    0.0    0.0    0.0  \n",
            "16618    0.0    0.0    0.0    0.0    0.0    0.0    0.0    0.0  \n",
            "16619    0.0    0.0    0.0    0.0    0.0    0.0    0.0    0.0  \n",
            "\n",
            "[3549 rows x 785 columns]\n"
          ]
        }
      ]
    },
    {
      "cell_type": "code",
      "source": [
        "labels = x['label']\n",
        "print(labels)"
      ],
      "metadata": {
        "colab": {
          "base_uri": "https://localhost:8080/"
        },
        "id": "UAlfVxtJUwOh",
        "outputId": "517adf6a-a554-48cb-928f-d5ce833224d7"
      },
      "execution_count": 6,
      "outputs": [
        {
          "output_type": "stream",
          "name": "stdout",
          "text": [
            "1        0\n",
            "3        1\n",
            "6        1\n",
            "8        1\n",
            "14       1\n",
            "        ..\n",
            "16608    1\n",
            "16610    1\n",
            "16614    1\n",
            "16618    0\n",
            "16619    0\n",
            "Name: label, Length: 3549, dtype: int64\n"
          ]
        }
      ]
    },
    {
      "cell_type": "code",
      "source": [],
      "metadata": {
        "id": "SKuV1v0i5jTz"
      },
      "execution_count": null,
      "outputs": []
    },
    {
      "cell_type": "code",
      "source": [
        "y = x.loc[:,x.columns != 'label']\n",
        "print(y)"
      ],
      "metadata": {
        "colab": {
          "base_uri": "https://localhost:8080/"
        },
        "id": "UQnZJ6_sV0P2",
        "outputId": "8ed381aa-e169-4c4d-9250-41ee54bf89a6"
      },
      "execution_count": 7,
      "outputs": [
        {
          "output_type": "stream",
          "name": "stdout",
          "text": [
            "       1x1  1x2  1x3  1x4  1x5  1x6  1x7  1x8  1x9  1x10  ...  28x19  28x20  \\\n",
            "1        0    0    0    0    0    0    0    0    0     0  ...    0.0    0.0   \n",
            "3        0    0    0    0    0    0    0    0    0     0  ...    0.0    0.0   \n",
            "6        0    0    0    0    0    0    0    0    0     0  ...    0.0    0.0   \n",
            "8        0    0    0    0    0    0    0    0    0     0  ...    0.0    0.0   \n",
            "14       0    0    0    0    0    0    0    0    0     0  ...    0.0    0.0   \n",
            "...    ...  ...  ...  ...  ...  ...  ...  ...  ...   ...  ...    ...    ...   \n",
            "16608    0    0    0    0    0    0    0    0    0     0  ...    0.0    0.0   \n",
            "16610    0    0    0    0    0    0    0    0    0     0  ...    0.0    0.0   \n",
            "16614    0    0    0    0    0    0    0    0    0     0  ...    0.0    0.0   \n",
            "16618    0    0    0    0    0    0    0    0    0     0  ...    0.0    0.0   \n",
            "16619    0    0    0    0    0    0    0    0    0     0  ...    0.0    0.0   \n",
            "\n",
            "       28x21  28x22  28x23  28x24  28x25  28x26  28x27  28x28  \n",
            "1        0.0    0.0    0.0    0.0    0.0    0.0    0.0    0.0  \n",
            "3        0.0    0.0    0.0    0.0    0.0    0.0    0.0    0.0  \n",
            "6        0.0    0.0    0.0    0.0    0.0    0.0    0.0    0.0  \n",
            "8        0.0    0.0    0.0    0.0    0.0    0.0    0.0    0.0  \n",
            "14       0.0    0.0    0.0    0.0    0.0    0.0    0.0    0.0  \n",
            "...      ...    ...    ...    ...    ...    ...    ...    ...  \n",
            "16608    0.0    0.0    0.0    0.0    0.0    0.0    0.0    0.0  \n",
            "16610    0.0    0.0    0.0    0.0    0.0    0.0    0.0    0.0  \n",
            "16614    0.0    0.0    0.0    0.0    0.0    0.0    0.0    0.0  \n",
            "16618    0.0    0.0    0.0    0.0    0.0    0.0    0.0    0.0  \n",
            "16619    0.0    0.0    0.0    0.0    0.0    0.0    0.0    0.0  \n",
            "\n",
            "[3549 rows x 784 columns]\n"
          ]
        }
      ]
    },
    {
      "cell_type": "code",
      "source": [],
      "metadata": {
        "id": "XLU8AXzM7UmN"
      },
      "execution_count": null,
      "outputs": []
    },
    {
      "cell_type": "code",
      "source": [
        "print(y.shape)"
      ],
      "metadata": {
        "colab": {
          "base_uri": "https://localhost:8080/"
        },
        "id": "f4fwfjEYNxTU",
        "outputId": "72430d1e-1d88-4537-b644-e31661e6272c"
      },
      "execution_count": 8,
      "outputs": [
        {
          "output_type": "stream",
          "name": "stdout",
          "text": [
            "(3549, 784)\n"
          ]
        }
      ]
    },
    {
      "cell_type": "code",
      "source": [
        "labels = labels.tolist()\n",
        "print(type(labels))"
      ],
      "metadata": {
        "colab": {
          "base_uri": "https://localhost:8080/"
        },
        "id": "snPuhBIPK8c5",
        "outputId": "c1960e97-232b-46f1-ccdf-5cca78a588c0"
      },
      "execution_count": 9,
      "outputs": [
        {
          "output_type": "stream",
          "name": "stdout",
          "text": [
            "<class 'list'>\n"
          ]
        }
      ]
    },
    {
      "cell_type": "markdown",
      "source": [
        "Add a shape of first layer which is dimensional multiple of your input data\n",
        "Here in this case the input is the image of dimension 28 * 28 . the input shape will be (28*28,0)"
      ],
      "metadata": {
        "id": "ziYrvqKjNONl"
      }
    },
    {
      "cell_type": "markdown",
      "source": [
        "Sequential model used here because it is apt when each layer has exactly one input tensor and one output tensor"
      ],
      "metadata": {
        "id": "0anJZvEnOysq"
      }
    },
    {
      "cell_type": "code",
      "source": [
        "model = Sequential(\n",
        "    [\n",
        "        tf.keras.Input(shape=(784,)),\n",
        "        Dense(28,activation='sigmoid',name='layer1'),\n",
        "        Dense(14,activation='sigmoid',name='layer2'),\n",
        "        Dense(1,activation='sigmoid',name='layer3')\n",
        "    ],name='new_model'\n",
        ")"
      ],
      "metadata": {
        "id": "5sAHPRLbL93b"
      },
      "execution_count": 10,
      "outputs": []
    },
    {
      "cell_type": "code",
      "source": [
        "model.summary()"
      ],
      "metadata": {
        "colab": {
          "base_uri": "https://localhost:8080/"
        },
        "id": "n1ooKE1aNIzs",
        "outputId": "bab2e1d2-6b07-41aa-a37a-3d4e2f5f6cca"
      },
      "execution_count": 11,
      "outputs": [
        {
          "output_type": "stream",
          "name": "stdout",
          "text": [
            "Model: \"new_model\"\n",
            "_________________________________________________________________\n",
            " Layer (type)                Output Shape              Param #   \n",
            "=================================================================\n",
            " layer1 (Dense)              (None, 28)                21980     \n",
            "                                                                 \n",
            " layer2 (Dense)              (None, 14)                406       \n",
            "                                                                 \n",
            " layer3 (Dense)              (None, 1)                 15        \n",
            "                                                                 \n",
            "=================================================================\n",
            "Total params: 22401 (87.50 KB)\n",
            "Trainable params: 22401 (87.50 KB)\n",
            "Non-trainable params: 0 (0.00 Byte)\n",
            "_________________________________________________________________\n"
          ]
        }
      ]
    },
    {
      "cell_type": "code",
      "source": [
        "[layer1,layer2,layer3] = model.layers"
      ],
      "metadata": {
        "id": "xIh-rsS7QUHF"
      },
      "execution_count": 12,
      "outputs": []
    },
    {
      "cell_type": "code",
      "source": [
        "w1,b1 = layer1.get_weights()\n",
        "w2,b2 = layer2.get_weights()\n",
        "w3,b3 = layer3.get_weights()\n",
        "print(f\"W1 shape = {w1.shape}, b1 shape = {b1.shape}\")#b1,b2,b3 are biases\n",
        "print(f\"W2 shape = {w2.shape}, b2 shape = {b2.shape}\")\n",
        "print(f\"W3 shape = {w3.shape}, b3 shape = {b3.shape}\")"
      ],
      "metadata": {
        "colab": {
          "base_uri": "https://localhost:8080/"
        },
        "id": "SkQutf6xQ4wu",
        "outputId": "dd7b9333-3f49-4ab1-e2df-c912f365bacd"
      },
      "execution_count": 13,
      "outputs": [
        {
          "output_type": "stream",
          "name": "stdout",
          "text": [
            "W1 shape = (784, 28), b1 shape = (28,)\n",
            "W2 shape = (28, 14), b2 shape = (14,)\n",
            "W3 shape = (14, 1), b3 shape = (1,)\n"
          ]
        }
      ]
    },
    {
      "cell_type": "code",
      "source": [
        "print(model.layers[2].weights)\n",
        "# Gives you the w(omega) values for different units in the second layer of 14 units"
      ],
      "metadata": {
        "colab": {
          "base_uri": "https://localhost:8080/"
        },
        "id": "nv62M1R3ReCZ",
        "outputId": "ddebc8d2-3d0c-45ab-e83b-d007f442eef7"
      },
      "execution_count": 14,
      "outputs": [
        {
          "output_type": "stream",
          "name": "stdout",
          "text": [
            "[<tf.Variable 'layer3/kernel:0' shape=(14, 1) dtype=float32, numpy=\n",
            "array([[ 0.21922344],\n",
            "       [-0.32399628],\n",
            "       [ 0.02361929],\n",
            "       [ 0.6128599 ],\n",
            "       [ 0.35866767],\n",
            "       [ 0.1440875 ],\n",
            "       [-0.31176472],\n",
            "       [ 0.42768842],\n",
            "       [-0.1970517 ],\n",
            "       [ 0.44357973],\n",
            "       [-0.07954955],\n",
            "       [ 0.5297616 ],\n",
            "       [ 0.24851316],\n",
            "       [-0.1647293 ]], dtype=float32)>, <tf.Variable 'layer3/bias:0' shape=(1,) dtype=float32, numpy=array([0.], dtype=float32)>]\n"
          ]
        }
      ]
    },
    {
      "cell_type": "markdown",
      "source": [
        "\n",
        "Binary Cross Entropy Loss is used here when the model classifies if the data has only two classes 0 or 1 and outputs a probability between 0 and 1.Adam optimization is used here to run gradient descent\n",
        "```\n",
        "# This is formatted as code\n",
        "```\n",
        "\n"
      ],
      "metadata": {
        "id": "IdKvDdsSSmqn"
      }
    },
    {
      "cell_type": "code",
      "source": [
        "model.compile(\n",
        "    loss=tf.keras.losses.BinaryCrossentropy(),\n",
        "    optimizer = tf.keras.optimizers.Adam(0.001),\n",
        ")\n",
        "X = np.array(y)\n",
        "labels = np.array(labels)\n",
        "model.fit(\n",
        "    y,labels,\n",
        "    epochs = 20\n",
        ")"
      ],
      "metadata": {
        "colab": {
          "base_uri": "https://localhost:8080/"
        },
        "id": "OgcrPTOCR8NU",
        "outputId": "9ac94c9e-56e4-4c6a-8e65-125d44ec0199"
      },
      "execution_count": 15,
      "outputs": [
        {
          "output_type": "stream",
          "name": "stdout",
          "text": [
            "Epoch 1/20\n",
            "111/111 [==============================] - 2s 4ms/step - loss: 0.3696\n",
            "Epoch 2/20\n",
            "111/111 [==============================] - 0s 4ms/step - loss: 0.1399\n",
            "Epoch 3/20\n",
            "111/111 [==============================] - 0s 2ms/step - loss: 0.0801\n",
            "Epoch 4/20\n",
            "111/111 [==============================] - 0s 2ms/step - loss: 0.0533\n",
            "Epoch 5/20\n",
            "111/111 [==============================] - 0s 3ms/step - loss: 0.0387\n",
            "Epoch 6/20\n",
            "111/111 [==============================] - 0s 2ms/step - loss: 0.0298\n",
            "Epoch 7/20\n",
            "111/111 [==============================] - 0s 2ms/step - loss: 0.0245\n",
            "Epoch 8/20\n",
            "111/111 [==============================] - 0s 2ms/step - loss: 0.0201\n",
            "Epoch 9/20\n",
            "111/111 [==============================] - 0s 2ms/step - loss: 0.0168\n",
            "Epoch 10/20\n",
            "111/111 [==============================] - 0s 3ms/step - loss: 0.0145\n",
            "Epoch 11/20\n",
            "111/111 [==============================] - 0s 2ms/step - loss: 0.0127\n",
            "Epoch 12/20\n",
            "111/111 [==============================] - 0s 3ms/step - loss: 0.0114\n",
            "Epoch 13/20\n",
            "111/111 [==============================] - 0s 2ms/step - loss: 0.0103\n",
            "Epoch 14/20\n",
            "111/111 [==============================] - 0s 3ms/step - loss: 0.0094\n",
            "Epoch 15/20\n",
            "111/111 [==============================] - 0s 2ms/step - loss: 0.0086\n",
            "Epoch 16/20\n",
            "111/111 [==============================] - 0s 3ms/step - loss: 0.0080\n",
            "Epoch 17/20\n",
            "111/111 [==============================] - 0s 2ms/step - loss: 0.0074\n",
            "Epoch 18/20\n",
            "111/111 [==============================] - 0s 2ms/step - loss: 0.0070\n",
            "Epoch 19/20\n",
            "111/111 [==============================] - 0s 2ms/step - loss: 0.0066\n",
            "Epoch 20/20\n",
            "111/111 [==============================] - 0s 2ms/step - loss: 0.0062\n"
          ]
        },
        {
          "output_type": "execute_result",
          "data": {
            "text/plain": [
              "<keras.src.callbacks.History at 0x7ba4f9ee1420>"
            ]
          },
          "metadata": {},
          "execution_count": 15
        }
      ]
    },
    {
      "cell_type": "code",
      "source": [],
      "metadata": {
        "id": "H9IafAfFVdrz"
      },
      "execution_count": null,
      "outputs": []
    },
    {
      "cell_type": "code",
      "source": [
        "prediction = model.predict(X[0].reshape(1,784))\n",
        "print(f\"Predicting a zero : {prediction}\")"
      ],
      "metadata": {
        "colab": {
          "base_uri": "https://localhost:8080/"
        },
        "id": "C0blm8N2UvbE",
        "outputId": "651710c0-c14b-4d00-bee2-e4a1ee11b20c"
      },
      "execution_count": 16,
      "outputs": [
        {
          "output_type": "stream",
          "name": "stdout",
          "text": [
            "1/1 [==============================] - 0s 90ms/step\n",
            "Predicting a zero : [[0.00591303]]\n"
          ]
        }
      ]
    },
    {
      "cell_type": "code",
      "source": [
        "prediction = model.predict(X[1].reshape(1,784))\n",
        "print(f\"Predicting a one : {prediction}\")"
      ],
      "metadata": {
        "colab": {
          "base_uri": "https://localhost:8080/"
        },
        "id": "14EhmpSQVjQC",
        "outputId": "c788ed49-e7c0-4cba-a201-012316f2ee08"
      },
      "execution_count": 17,
      "outputs": [
        {
          "output_type": "stream",
          "name": "stdout",
          "text": [
            "1/1 [==============================] - 0s 20ms/step\n",
            "Predicting a one : [[0.9984053]]\n"
          ]
        }
      ]
    },
    {
      "cell_type": "code",
      "source": [
        "print(labels[0])"
      ],
      "metadata": {
        "colab": {
          "base_uri": "https://localhost:8080/"
        },
        "id": "wVtD3O_Z7iEu",
        "outputId": "6bc477d1-4c62-44d2-9d31-6198aa264bdc"
      },
      "execution_count": 16,
      "outputs": [
        {
          "output_type": "stream",
          "name": "stdout",
          "text": [
            "0\n"
          ]
        }
      ]
    },
    {
      "cell_type": "code",
      "source": [
        "for i in range(10,20):\n",
        "\n",
        "  prediction = model.predict(X[i].reshape(1,784))\n",
        "  print(labels[i])\n",
        "  print(prediction)\n",
        "  if prediction >= 0.5:\n",
        "\n",
        "    print(1 == labels[i])\n",
        "  elif prediction < 0.5:\n",
        "    print(0 == labels[i])\n",
        "  else:\n",
        "    print(\"False\")\n"
      ],
      "metadata": {
        "colab": {
          "base_uri": "https://localhost:8080/"
        },
        "id": "06JJn948wdV5",
        "outputId": "838d0d24-d073-4391-f86b-9707a2855fc1"
      },
      "execution_count": 18,
      "outputs": [
        {
          "output_type": "stream",
          "name": "stdout",
          "text": [
            "1/1 [==============================] - 0s 20ms/step\n",
            "1\n",
            "[[0.9984053]]\n",
            "True\n",
            "1/1 [==============================] - 0s 21ms/step\n",
            "0\n",
            "[[0.00591303]]\n",
            "True\n",
            "1/1 [==============================] - 0s 24ms/step\n",
            "0\n",
            "[[0.00591303]]\n",
            "True\n",
            "1/1 [==============================] - 0s 21ms/step\n",
            "1\n",
            "[[0.9984053]]\n",
            "True\n",
            "1/1 [==============================] - 0s 20ms/step\n",
            "0\n",
            "[[0.00591303]]\n",
            "True\n",
            "1/1 [==============================] - 0s 22ms/step\n",
            "1\n",
            "[[0.9984053]]\n",
            "True\n",
            "1/1 [==============================] - 0s 20ms/step\n",
            "0\n",
            "[[0.00611035]]\n",
            "True\n",
            "1/1 [==============================] - 0s 20ms/step\n",
            "0\n",
            "[[0.00591303]]\n",
            "True\n",
            "1/1 [==============================] - 0s 20ms/step\n",
            "1\n",
            "[[0.9984053]]\n",
            "True\n",
            "1/1 [==============================] - 0s 21ms/step\n",
            "1\n",
            "[[0.9984053]]\n",
            "True\n"
          ]
        }
      ]
    },
    {
      "cell_type": "code",
      "source": [],
      "metadata": {
        "id": "VnAn7CWc3kSz"
      },
      "execution_count": null,
      "outputs": []
    },
    {
      "cell_type": "markdown",
      "source": [
        "Now we will try to make our own dense layer from scratch"
      ],
      "metadata": {
        "id": "UVaCA9TRp5qD"
      }
    },
    {
      "cell_type": "code",
      "source": [
        "def dense_scratch(a_in,W,b,g):\n",
        "  units = W.shape[1]\n",
        "  a_out = np.zeros(units)\n",
        "  for i in range(units):\n",
        "    w = W[:,i]\n",
        "    z = np.dot(w,a_in) + b[i]\n",
        "    a_out[i] = g(z)\n",
        "  return a_out"
      ],
      "metadata": {
        "id": "oKkX86RwBkqf"
      },
      "execution_count": 21,
      "outputs": []
    },
    {
      "cell_type": "markdown",
      "source": [
        "We are creating our own Sequential Model from scratch"
      ],
      "metadata": {
        "id": "7EiWOKg_sTMb"
      }
    },
    {
      "cell_type": "code",
      "source": [
        "def my_sequential(x,W1,b1,W2,b2,W3,b3):\n",
        "  a1 = dense_scratch(x,W1,b1,sigmoid)\n",
        "  a2 = dense_scratch(a1,W2,b2,sigmoid)\n",
        "  a3 = dense_scratch(a2,W3,b3,sigmoid)\n",
        "  return a3\n"
      ],
      "metadata": {
        "id": "FInBENWRrCsw"
      },
      "execution_count": 27,
      "outputs": []
    },
    {
      "cell_type": "code",
      "source": [
        "W1_tmp,b1_tmp = layer1.get_weights()\n",
        "W2_tmp,b2_tmp = layer2.get_weights()\n",
        "W3_tmp,b3_tmp = layer3.get_weights()"
      ],
      "metadata": {
        "id": "HDeckYRmxbFU"
      },
      "execution_count": 19,
      "outputs": []
    },
    {
      "cell_type": "code",
      "source": [
        "import math\n",
        "\n",
        "def sigmoid(x):\n",
        "  return 1 / (1 + math.exp(-x))"
      ],
      "metadata": {
        "id": "mfOJgB655Ev8"
      },
      "execution_count": 24,
      "outputs": []
    },
    {
      "cell_type": "markdown",
      "source": [
        "Making Predictions using dense layer from scratch"
      ],
      "metadata": {
        "id": "0p__Y_F7yJHW"
      }
    },
    {
      "cell_type": "code",
      "source": [
        "for i in range(10,20):\n",
        "  prediction = my_sequential(X[0], W1_tmp, b1_tmp, W2_tmp, b2_tmp, W3_tmp, b3_tmp )\n",
        "  if prediction >= 0.5:\n",
        "      yhat = 1\n",
        "  else:\n",
        "      yhat = 0\n",
        "  print( \"yhat = \", yhat, \" label= \", y[0,0])\n",
        "  prediction = my_sequential(X[500], W1_tmp, b1_tmp, W2_tmp, b2_tmp, W3_tmp, b3_tmp )\n",
        "  if prediction >= 0.5:\n",
        "      yhat = 1\n",
        "  else:\n",
        "      yhat = 0\n",
        "  print( \"yhat = \", yhat, \" label= \", labels[i])"
      ],
      "metadata": {
        "colab": {
          "base_uri": "https://localhost:8080/",
          "height": 373
        },
        "id": "YbxqvoL6x0Kv",
        "outputId": "7f9f7907-6721-4fa1-a677-af41509469fd"
      },
      "execution_count": 28,
      "outputs": [
        {
          "output_type": "error",
          "ename": "OverflowError",
          "evalue": "math range error",
          "traceback": [
            "\u001b[0;31m---------------------------------------------------------------------------\u001b[0m",
            "\u001b[0;31mOverflowError\u001b[0m                             Traceback (most recent call last)",
            "\u001b[0;32m<ipython-input-28-bb9acb41d72d>\u001b[0m in \u001b[0;36m<cell line: 1>\u001b[0;34m()\u001b[0m\n\u001b[1;32m      1\u001b[0m \u001b[0;32mfor\u001b[0m \u001b[0mi\u001b[0m \u001b[0;32min\u001b[0m \u001b[0mrange\u001b[0m\u001b[0;34m(\u001b[0m\u001b[0;36m10\u001b[0m\u001b[0;34m,\u001b[0m\u001b[0;36m20\u001b[0m\u001b[0;34m)\u001b[0m\u001b[0;34m:\u001b[0m\u001b[0;34m\u001b[0m\u001b[0;34m\u001b[0m\u001b[0m\n\u001b[0;32m----> 2\u001b[0;31m   \u001b[0mprediction\u001b[0m \u001b[0;34m=\u001b[0m \u001b[0mmy_sequential\u001b[0m\u001b[0;34m(\u001b[0m\u001b[0mX\u001b[0m\u001b[0;34m[\u001b[0m\u001b[0;36m0\u001b[0m\u001b[0;34m]\u001b[0m\u001b[0;34m,\u001b[0m \u001b[0mW1_tmp\u001b[0m\u001b[0;34m,\u001b[0m \u001b[0mb1_tmp\u001b[0m\u001b[0;34m,\u001b[0m \u001b[0mW2_tmp\u001b[0m\u001b[0;34m,\u001b[0m \u001b[0mb2_tmp\u001b[0m\u001b[0;34m,\u001b[0m \u001b[0mW3_tmp\u001b[0m\u001b[0;34m,\u001b[0m \u001b[0mb3_tmp\u001b[0m \u001b[0;34m)\u001b[0m\u001b[0;34m\u001b[0m\u001b[0;34m\u001b[0m\u001b[0m\n\u001b[0m\u001b[1;32m      3\u001b[0m   \u001b[0;32mif\u001b[0m \u001b[0mprediction\u001b[0m \u001b[0;34m>=\u001b[0m \u001b[0;36m0.5\u001b[0m\u001b[0;34m:\u001b[0m\u001b[0;34m\u001b[0m\u001b[0;34m\u001b[0m\u001b[0m\n\u001b[1;32m      4\u001b[0m       \u001b[0myhat\u001b[0m \u001b[0;34m=\u001b[0m \u001b[0;36m1\u001b[0m\u001b[0;34m\u001b[0m\u001b[0;34m\u001b[0m\u001b[0m\n\u001b[1;32m      5\u001b[0m   \u001b[0;32melse\u001b[0m\u001b[0;34m:\u001b[0m\u001b[0;34m\u001b[0m\u001b[0;34m\u001b[0m\u001b[0m\n",
            "\u001b[0;32m<ipython-input-27-3c45c09f3847>\u001b[0m in \u001b[0;36mmy_sequential\u001b[0;34m(x, W1, b1, W2, b2, W3, b3)\u001b[0m\n\u001b[1;32m      1\u001b[0m \u001b[0;32mdef\u001b[0m \u001b[0mmy_sequential\u001b[0m\u001b[0;34m(\u001b[0m\u001b[0mx\u001b[0m\u001b[0;34m,\u001b[0m\u001b[0mW1\u001b[0m\u001b[0;34m,\u001b[0m\u001b[0mb1\u001b[0m\u001b[0;34m,\u001b[0m\u001b[0mW2\u001b[0m\u001b[0;34m,\u001b[0m\u001b[0mb2\u001b[0m\u001b[0;34m,\u001b[0m\u001b[0mW3\u001b[0m\u001b[0;34m,\u001b[0m\u001b[0mb3\u001b[0m\u001b[0;34m)\u001b[0m\u001b[0;34m:\u001b[0m\u001b[0;34m\u001b[0m\u001b[0;34m\u001b[0m\u001b[0m\n\u001b[0;32m----> 2\u001b[0;31m   \u001b[0ma1\u001b[0m \u001b[0;34m=\u001b[0m \u001b[0mdense_scratch\u001b[0m\u001b[0;34m(\u001b[0m\u001b[0mx\u001b[0m\u001b[0;34m,\u001b[0m\u001b[0mW1\u001b[0m\u001b[0;34m,\u001b[0m\u001b[0mb1\u001b[0m\u001b[0;34m,\u001b[0m\u001b[0msigmoid\u001b[0m\u001b[0;34m)\u001b[0m\u001b[0;34m\u001b[0m\u001b[0;34m\u001b[0m\u001b[0m\n\u001b[0m\u001b[1;32m      3\u001b[0m   \u001b[0ma2\u001b[0m \u001b[0;34m=\u001b[0m \u001b[0mdense_scratch\u001b[0m\u001b[0;34m(\u001b[0m\u001b[0ma1\u001b[0m\u001b[0;34m,\u001b[0m\u001b[0mW2\u001b[0m\u001b[0;34m,\u001b[0m\u001b[0mb2\u001b[0m\u001b[0;34m,\u001b[0m\u001b[0msigmoid\u001b[0m\u001b[0;34m)\u001b[0m\u001b[0;34m\u001b[0m\u001b[0;34m\u001b[0m\u001b[0m\n\u001b[1;32m      4\u001b[0m   \u001b[0ma3\u001b[0m \u001b[0;34m=\u001b[0m \u001b[0mdense_scratch\u001b[0m\u001b[0;34m(\u001b[0m\u001b[0ma2\u001b[0m\u001b[0;34m,\u001b[0m\u001b[0mW3\u001b[0m\u001b[0;34m,\u001b[0m\u001b[0mb3\u001b[0m\u001b[0;34m,\u001b[0m\u001b[0msigmoid\u001b[0m\u001b[0;34m)\u001b[0m\u001b[0;34m\u001b[0m\u001b[0;34m\u001b[0m\u001b[0m\n\u001b[1;32m      5\u001b[0m   \u001b[0;32mreturn\u001b[0m \u001b[0ma3\u001b[0m\u001b[0;34m\u001b[0m\u001b[0;34m\u001b[0m\u001b[0m\n",
            "\u001b[0;32m<ipython-input-21-26d05904cda7>\u001b[0m in \u001b[0;36mdense_scratch\u001b[0;34m(a_in, W, b, g)\u001b[0m\n\u001b[1;32m      5\u001b[0m     \u001b[0mw\u001b[0m \u001b[0;34m=\u001b[0m \u001b[0mW\u001b[0m\u001b[0;34m[\u001b[0m\u001b[0;34m:\u001b[0m\u001b[0;34m,\u001b[0m\u001b[0mi\u001b[0m\u001b[0;34m]\u001b[0m\u001b[0;34m\u001b[0m\u001b[0;34m\u001b[0m\u001b[0m\n\u001b[1;32m      6\u001b[0m     \u001b[0mz\u001b[0m \u001b[0;34m=\u001b[0m \u001b[0mnp\u001b[0m\u001b[0;34m.\u001b[0m\u001b[0mdot\u001b[0m\u001b[0;34m(\u001b[0m\u001b[0mw\u001b[0m\u001b[0;34m,\u001b[0m\u001b[0ma_in\u001b[0m\u001b[0;34m)\u001b[0m \u001b[0;34m+\u001b[0m \u001b[0mb\u001b[0m\u001b[0;34m[\u001b[0m\u001b[0mi\u001b[0m\u001b[0;34m]\u001b[0m\u001b[0;34m\u001b[0m\u001b[0;34m\u001b[0m\u001b[0m\n\u001b[0;32m----> 7\u001b[0;31m     \u001b[0ma_out\u001b[0m\u001b[0;34m[\u001b[0m\u001b[0mi\u001b[0m\u001b[0;34m]\u001b[0m \u001b[0;34m=\u001b[0m \u001b[0mg\u001b[0m\u001b[0;34m(\u001b[0m\u001b[0mz\u001b[0m\u001b[0;34m)\u001b[0m\u001b[0;34m\u001b[0m\u001b[0;34m\u001b[0m\u001b[0m\n\u001b[0m\u001b[1;32m      8\u001b[0m   \u001b[0;32mreturn\u001b[0m \u001b[0ma_out\u001b[0m\u001b[0;34m\u001b[0m\u001b[0;34m\u001b[0m\u001b[0m\n",
            "\u001b[0;32m<ipython-input-24-4644ed705943>\u001b[0m in \u001b[0;36msigmoid\u001b[0;34m(x)\u001b[0m\n\u001b[1;32m      2\u001b[0m \u001b[0;34m\u001b[0m\u001b[0m\n\u001b[1;32m      3\u001b[0m \u001b[0;32mdef\u001b[0m \u001b[0msigmoid\u001b[0m\u001b[0;34m(\u001b[0m\u001b[0mx\u001b[0m\u001b[0;34m)\u001b[0m\u001b[0;34m:\u001b[0m\u001b[0;34m\u001b[0m\u001b[0;34m\u001b[0m\u001b[0m\n\u001b[0;32m----> 4\u001b[0;31m   \u001b[0;32mreturn\u001b[0m \u001b[0;36m1\u001b[0m \u001b[0;34m/\u001b[0m \u001b[0;34m(\u001b[0m\u001b[0;36m1\u001b[0m \u001b[0;34m+\u001b[0m \u001b[0mmath\u001b[0m\u001b[0;34m.\u001b[0m\u001b[0mexp\u001b[0m\u001b[0;34m(\u001b[0m\u001b[0;34m-\u001b[0m\u001b[0mx\u001b[0m\u001b[0;34m)\u001b[0m\u001b[0;34m)\u001b[0m\u001b[0;34m\u001b[0m\u001b[0;34m\u001b[0m\u001b[0m\n\u001b[0m",
            "\u001b[0;31mOverflowError\u001b[0m: math range error"
          ]
        }
      ]
    },
    {
      "cell_type": "markdown",
      "source": [
        "Now Let's Test whether our new model is good enough in test data set\n"
      ],
      "metadata": {
        "id": "7F0Oi2Z43nI3"
      }
    },
    {
      "cell_type": "code",
      "source": [
        "a = pd.read_csv(\"/content/mnist_test.csv\")\n"
      ],
      "metadata": {
        "id": "aIoqDP7b3lk-"
      },
      "execution_count": 19,
      "outputs": []
    },
    {
      "cell_type": "code",
      "source": [
        "print(a.head(7))"
      ],
      "metadata": {
        "colab": {
          "base_uri": "https://localhost:8080/"
        },
        "id": "L4IrsYlZ4P9v",
        "outputId": "3b0c85e9-9ff3-49aa-81af-25db2858e9f7"
      },
      "execution_count": 23,
      "outputs": [
        {
          "output_type": "stream",
          "name": "stdout",
          "text": [
            "   label  1x1  1x2  1x3  1x4  1x5  1x6  1x7  1x8  1x9  ...  28x19  28x20  \\\n",
            "0      7    0    0    0    0    0    0    0    0    0  ...      0      0   \n",
            "1      2    0    0    0    0    0    0    0    0    0  ...      0      0   \n",
            "2      1    0    0    0    0    0    0    0    0    0  ...      0      0   \n",
            "3      0    0    0    0    0    0    0    0    0    0  ...      0      0   \n",
            "4      4    0    0    0    0    0    0    0    0    0  ...      0      0   \n",
            "5      1    0    0    0    0    0    0    0    0    0  ...      0      0   \n",
            "6      4    0    0    0    0    0    0    0    0    0  ...      0      0   \n",
            "\n",
            "   28x21  28x22  28x23  28x24  28x25  28x26  28x27  28x28  \n",
            "0      0      0      0      0      0      0      0      0  \n",
            "1      0      0      0      0      0      0      0      0  \n",
            "2      0      0      0      0      0      0      0      0  \n",
            "3      0      0      0      0      0      0      0      0  \n",
            "4      0      0      0      0      0      0      0      0  \n",
            "5      0      0      0      0      0      0      0      0  \n",
            "6      0      0      0      0      0      0      0      0  \n",
            "\n",
            "[7 rows x 785 columns]\n"
          ]
        }
      ]
    },
    {
      "cell_type": "code",
      "source": [
        "x = a.query('label == 0 or label == 1')"
      ],
      "metadata": {
        "id": "SVtutfUF5MDx"
      },
      "execution_count": 24,
      "outputs": []
    },
    {
      "cell_type": "code",
      "source": [
        "labels = x['label']\n",
        "print(labels)"
      ],
      "metadata": {
        "colab": {
          "base_uri": "https://localhost:8080/"
        },
        "id": "6iRd-6yu5km6",
        "outputId": "7180138a-45b1-4fc0-d687-f198dba2ff0e"
      },
      "execution_count": 25,
      "outputs": [
        {
          "output_type": "stream",
          "name": "stdout",
          "text": [
            "2       1\n",
            "3       0\n",
            "5       1\n",
            "10      0\n",
            "13      0\n",
            "       ..\n",
            "9978    1\n",
            "9983    0\n",
            "9984    1\n",
            "9993    0\n",
            "9994    1\n",
            "Name: label, Length: 2115, dtype: int64\n"
          ]
        }
      ]
    },
    {
      "cell_type": "code",
      "source": [
        "y = x.loc[:,x.columns != 'label']"
      ],
      "metadata": {
        "id": "y1zR68rq7V12"
      },
      "execution_count": 26,
      "outputs": []
    },
    {
      "cell_type": "code",
      "source": [
        "labels = np.array(labels)\n",
        "X = np.array(y)"
      ],
      "metadata": {
        "id": "U6v6ngE07ZYu"
      },
      "execution_count": 30,
      "outputs": []
    },
    {
      "cell_type": "code",
      "source": [
        "shape_one = X.shape[0]\n",
        "print(shape_one)"
      ],
      "metadata": {
        "colab": {
          "base_uri": "https://localhost:8080/"
        },
        "id": "rHklHRvZ8uev",
        "outputId": "2b21eda9-4e46-442b-91a1-d1eb871f16eb"
      },
      "execution_count": 33,
      "outputs": [
        {
          "output_type": "stream",
          "name": "stdout",
          "text": [
            "2115\n"
          ]
        }
      ]
    },
    {
      "cell_type": "code",
      "source": [
        "prediction = 0\n",
        "count_trues = 0\n",
        "for i in range(0,50):\n",
        "  prediction = model.predict(X[i].reshape(1,784))\n",
        "  if prediction >= 0.5:\n",
        "    prediction = 1\n",
        "\n",
        "  else:\n",
        "    prediction = 0\n",
        "\n",
        "  count_trues += 1 if labels[i] == prediction else 0\n",
        "print(count_trues)"
      ],
      "metadata": {
        "colab": {
          "base_uri": "https://localhost:8080/"
        },
        "id": "cEI2jfzN8AaE",
        "outputId": "74247cf2-0355-436f-f3be-962ecb4c89fe"
      },
      "execution_count": 37,
      "outputs": [
        {
          "output_type": "stream",
          "name": "stdout",
          "text": [
            "1/1 [==============================] - 0s 22ms/step\n",
            "1/1 [==============================] - 0s 20ms/step\n",
            "1/1 [==============================] - 0s 20ms/step\n",
            "1/1 [==============================] - 0s 21ms/step\n",
            "1/1 [==============================] - 0s 22ms/step\n",
            "1/1 [==============================] - 0s 21ms/step\n",
            "1/1 [==============================] - 0s 21ms/step\n",
            "1/1 [==============================] - 0s 22ms/step\n",
            "1/1 [==============================] - 0s 22ms/step\n",
            "1/1 [==============================] - 0s 26ms/step\n",
            "1/1 [==============================] - 0s 21ms/step\n",
            "1/1 [==============================] - 0s 22ms/step\n",
            "1/1 [==============================] - 0s 21ms/step\n",
            "1/1 [==============================] - 0s 22ms/step\n",
            "1/1 [==============================] - 0s 23ms/step\n",
            "1/1 [==============================] - 0s 21ms/step\n",
            "1/1 [==============================] - 0s 21ms/step\n",
            "1/1 [==============================] - 0s 22ms/step\n",
            "1/1 [==============================] - 0s 21ms/step\n",
            "1/1 [==============================] - 0s 24ms/step\n",
            "1/1 [==============================] - 0s 21ms/step\n",
            "1/1 [==============================] - 0s 21ms/step\n",
            "1/1 [==============================] - 0s 22ms/step\n",
            "1/1 [==============================] - 0s 23ms/step\n",
            "1/1 [==============================] - 0s 21ms/step\n",
            "1/1 [==============================] - 0s 21ms/step\n",
            "1/1 [==============================] - 0s 20ms/step\n",
            "1/1 [==============================] - 0s 20ms/step\n",
            "1/1 [==============================] - 0s 22ms/step\n",
            "1/1 [==============================] - 0s 21ms/step\n",
            "1/1 [==============================] - 0s 24ms/step\n",
            "1/1 [==============================] - 0s 22ms/step\n",
            "1/1 [==============================] - 0s 23ms/step\n",
            "1/1 [==============================] - 0s 21ms/step\n",
            "1/1 [==============================] - 0s 23ms/step\n",
            "1/1 [==============================] - 0s 21ms/step\n",
            "1/1 [==============================] - 0s 21ms/step\n",
            "1/1 [==============================] - 0s 20ms/step\n",
            "1/1 [==============================] - 0s 21ms/step\n",
            "1/1 [==============================] - 0s 21ms/step\n",
            "1/1 [==============================] - 0s 24ms/step\n",
            "1/1 [==============================] - 0s 21ms/step\n",
            "1/1 [==============================] - 0s 22ms/step\n",
            "1/1 [==============================] - 0s 21ms/step\n",
            "1/1 [==============================] - 0s 20ms/step\n",
            "1/1 [==============================] - 0s 28ms/step\n",
            "1/1 [==============================] - 0s 24ms/step\n",
            "1/1 [==============================] - 0s 20ms/step\n",
            "1/1 [==============================] - 0s 22ms/step\n",
            "1/1 [==============================] - 0s 22ms/step\n",
            "50\n"
          ]
        }
      ]
    }
  ]
}